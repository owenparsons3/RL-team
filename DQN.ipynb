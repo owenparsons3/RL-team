{
  "nbformat": 4,
  "nbformat_minor": 0,
  "metadata": {
    "colab": {
      "provenance": [],
      "authorship_tag": "ABX9TyNEe/8WH9dim3ciulisTRkB",
      "include_colab_link": true
    },
    "kernelspec": {
      "name": "python3",
      "display_name": "Python 3"
    },
    "language_info": {
      "name": "python"
    }
  },
  "cells": [
    {
      "cell_type": "markdown",
      "metadata": {
        "id": "view-in-github",
        "colab_type": "text"
      },
      "source": [
        "<a href=\"https://colab.research.google.com/github/owenparsons3/RL-team/blob/main/DQN.ipynb\" target=\"_parent\"><img src=\"https://colab.research.google.com/assets/colab-badge.svg\" alt=\"Open In Colab\"/></a>"
      ]
    },
    {
      "cell_type": "markdown",
      "source": [
        "#Overview\n",
        "\n",
        "This code is adapted from a YouTube Tutorial by brthor.\n",
        "(Source: https://www.youtube.com/watch?v=NP8pXZdU-5U&t=0s retrieved in April 2024.)\n",
        "\n",
        "\n",
        "Human level control through deep reinforcement learning (paper): DQN algorithm introduced by deepmind\n",
        "\n",
        "Replace the Q table in Q-learning with a deep neural network to estimate the Q-function. Q-function takes a state and returns the Q-value for each state action pair."
      ],
      "metadata": {
        "id": "DK2UE8N_xdhc"
      }
    },
    {
      "cell_type": "markdown",
      "source": [
        "#Set up"
      ],
      "metadata": {
        "id": "IVmQk9Jd2G2y"
      }
    },
    {
      "cell_type": "code",
      "source": [
        "import torch\n",
        "from torch import nn\n",
        "import numpy as np\n",
        "import gym\n",
        "from collections import deque\n",
        "import itertools\n",
        "import random"
      ],
      "metadata": {
        "id": "cwyzu4vd2GX2"
      },
      "execution_count": 1,
      "outputs": []
    },
    {
      "cell_type": "markdown",
      "source": [
        "##Hyperparameters\n",
        "GAMMA = TD target discount rate\n",
        "\n",
        "BATCH_SIZE = number of samples from replay buffer when computing gradients\n",
        "\n",
        "BUFFER = maximum number of transitions to store before updating old transitions\n",
        "\n",
        "REPLAY_MIN = minimum number of transition in the replay buffer before starting training\n",
        "\n",
        "EPS_START = start value for epsilon\n",
        "\n",
        "EPS_END = end value for epsilon EPS_START and EPS_END\n",
        "\n",
        "EPS_DECAY = number of steps between\n",
        "\n",
        "TARGET_UPDATE_FREQUENCY = frequency for updating the target parameters\n",
        "\n",
        "LR = learning rate"
      ],
      "metadata": {
        "id": "5jVn7_rIz9Bf"
      }
    },
    {
      "cell_type": "code",
      "source": [
        "#Hyperparameters\n",
        "GAMMA = 0.99\n",
        "BATCH_SIZE = 32\n",
        "BUFFER = 50000\n",
        "REPLAY_MIN = 1000\n",
        "EPS_START = 1.0\n",
        "EPS_END = 0.02\n",
        "EPS_DECAY = 10000\n",
        "TARGET_UPDATE_FREQUENCY = 1000\n",
        "LR = 5e-4"
      ],
      "metadata": {
        "id": "UpNHZcFNxuDM",
        "outputId": "b02415d3-16f3-4182-b6d1-0f46032728ae",
        "colab": {
          "base_uri": "https://localhost:8080/"
        }
      },
      "execution_count": 2,
      "outputs": [
        {
          "output_type": "stream",
          "name": "stderr",
          "text": [
            "/usr/local/lib/python3.10/dist-packages/ipykernel/ipkernel.py:283: DeprecationWarning: `should_run_async` will not call `transform_cell` automatically in the future. Please pass the result to `transformed_cell` argument and any exception that happen during thetransform in `preprocessing_exc_tuple` in IPython 7.17 and above.\n",
            "  and should_run_async(code)\n"
          ]
        }
      ]
    },
    {
      "cell_type": "markdown",
      "source": [
        "#Environment\n"
      ],
      "metadata": {
        "id": "ECQdzySh2pEo"
      }
    },
    {
      "cell_type": "markdown",
      "source": [
        "Create a network class, which you do in PyTorch by creting a class that inherits from nn.Module. Initialise the class by calling the superclass.\n",
        "\n",
        "**Network structure:**\n",
        "\n",
        "**Input Layer** - the number of inputs to the network (input_features) calculate by doing a product of the environment space.\n",
        "\n",
        "Then a standard 2 layer sequential network with 64 hidden units separated by a Tanh non-linearity.\n",
        "\n",
        "**Linear Layer**\n",
        "\n",
        "**Tanh Layer**\n",
        "\n",
        "The number of outputs for the network is equal to the number of actions available to the agaent.\n",
        "\n",
        "**Linear Layer**"
      ],
      "metadata": {
        "id": "j7QCoeOD32xJ"
      }
    },
    {
      "cell_type": "code",
      "source": [
        "class Network(nn.Module):\n",
        "  def __init__(self, env):\n",
        "    super().__init__()\n",
        "\n",
        "    #for 1D spaces the product is not necessary e.g. CartPole, but it will be important for atari games which ar 3D for the images\n",
        "    input_features = int(np.prod(env.observation_space.shape))\n",
        "\n",
        "    self.net = nn.Sequential(\n",
        "        nn.Linear(input_features, 64),\n",
        "        nn.Tanh(),\n",
        "        nn.Linear(64, env.action_space.n)\n",
        "    )\n",
        "\n",
        "  #The forward function is required to run any PyTorch network\n",
        "  def forward(self, x):\n",
        "    return self.net(x)\n",
        "\n",
        "  def act(self, obs):\n",
        "    obs_t = torch.as_tensor(obs, dtype=torch.float32)\n",
        "    q_values = self(obs_t.unsqueeze(0)) #unsqueeze 0 to create a fake batch dimension because pytorch operations expect a batched dimension, we are not using a batched env\n",
        "    max_q_index = torch.argmax(q_values, dim=1)[0]\n",
        "    action = max_q_index.detach().item() #turn pytorch tensor into an integer using detach method\n",
        "\n",
        "    return action"
      ],
      "metadata": {
        "id": "RQle7_-6318-"
      },
      "execution_count": 3,
      "outputs": []
    },
    {
      "cell_type": "markdown",
      "source": [
        "Create a replay buffer that has a max length of BUFFER.\n",
        "\n",
        "Also create a reward buffer that stores the rewards for an episode to track training performance."
      ],
      "metadata": {
        "id": "z8mBfH8Q3zF-"
      }
    },
    {
      "cell_type": "code",
      "execution_count": 4,
      "metadata": {
        "colab": {
          "base_uri": "https://localhost:8080/"
        },
        "id": "E4QU-p4FwvMa",
        "outputId": "b2c22e39-1c5c-44be-9b6d-ec9fa58931c7"
      },
      "outputs": [
        {
          "output_type": "stream",
          "name": "stderr",
          "text": [
            "/usr/local/lib/python3.10/dist-packages/gym/core.py:317: DeprecationWarning: \u001b[33mWARN: Initializing wrapper in old step API which returns one bool instead of two. It is recommended to set `new_step_api=True` to use new step API. This will be the default behaviour in future.\u001b[0m\n",
            "  deprecation(\n",
            "/usr/local/lib/python3.10/dist-packages/gym/wrappers/step_api_compatibility.py:39: DeprecationWarning: \u001b[33mWARN: Initializing environment in old step API which returns one bool instead of two. It is recommended to set `new_step_api=True` to use new step API. This will be the default behaviour in future.\u001b[0m\n",
            "  deprecation(\n"
          ]
        }
      ],
      "source": [
        "env = gym.make(\"CartPole-v1\")\n",
        "\n",
        "replay_buffer = deque(maxlen=BUFFER)\n",
        "reward_buffer = deque([0.0], maxlen=100)\n",
        "\n",
        "#there may be better ways to do this using gym and \"monitor\"\n",
        "episode_reward = 0.0"
      ]
    },
    {
      "cell_type": "markdown",
      "source": [
        "#Create neural networks"
      ],
      "metadata": {
        "id": "SeuXtj6o9Uc_"
      }
    },
    {
      "cell_type": "code",
      "source": [
        "online_network = Network(env)\n",
        "target_network = Network(env)\n",
        "\n",
        "#optimise using the adam optimiser\n",
        "optimiser = torch.optim.Adam(online_network.parameters(), lr=LR)\n",
        "\n",
        "#set the target network parameters equal to the online network parameters (because they were initialised separately), this is also part of the algorithm in the paper\n",
        "target_network.load_state_dict(online_network.state_dict())\n",
        "\n"
      ],
      "metadata": {
        "colab": {
          "base_uri": "https://localhost:8080/"
        },
        "id": "5BuB3cM52nA2",
        "outputId": "b2ce17bd-f3a5-426c-8bf7-e8df5b46e51e"
      },
      "execution_count": 5,
      "outputs": [
        {
          "output_type": "execute_result",
          "data": {
            "text/plain": [
              "<All keys matched successfully>"
            ]
          },
          "metadata": {},
          "execution_count": 5
        }
      ]
    },
    {
      "cell_type": "markdown",
      "source": [
        "##Initialise replay buffer"
      ],
      "metadata": {
        "id": "e54fSs_J-ojz"
      }
    },
    {
      "cell_type": "code",
      "source": [
        "#reset the environment to get the first observation\n",
        "obs = env.reset()\n",
        "\n",
        "#get the first set of actions and observations before training using replay_min\n",
        "for _ in range(REPLAY_MIN):\n",
        "\n",
        "  #take an action\n",
        "  action = env.action_space.sample()\n",
        "\n",
        "  #take a step in the environment based on the action and get teh new observations, reward and whether the episode is over\n",
        "  #store this information in the replay buffer\n",
        "  #set observation to the new observation\n",
        "  new_obs, reward, done, info = env.step(action)\n",
        "  transition = (obs, action, reward, done, new_obs)\n",
        "  replay_buffer.append(transition)\n",
        "  obs = new_obs\n",
        "\n",
        "  #reset the environment if the episode is over\n",
        "  if done:\n",
        "    obs = env.reset()"
      ],
      "metadata": {
        "colab": {
          "base_uri": "https://localhost:8080/"
        },
        "id": "Fo-2WcMO-eqZ",
        "outputId": "850779cd-7a1d-4fa6-d3d7-a88eb8b20b84"
      },
      "execution_count": 6,
      "outputs": [
        {
          "output_type": "stream",
          "name": "stderr",
          "text": [
            "/usr/local/lib/python3.10/dist-packages/ipykernel/ipkernel.py:283: DeprecationWarning: `should_run_async` will not call `transform_cell` automatically in the future. Please pass the result to `transformed_cell` argument and any exception that happen during thetransform in `preprocessing_exc_tuple` in IPython 7.17 and above.\n",
            "  and should_run_async(code)\n",
            "/usr/local/lib/python3.10/dist-packages/gym/utils/passive_env_checker.py:241: DeprecationWarning: `np.bool8` is a deprecated alias for `np.bool_`.  (Deprecated NumPy 1.24)\n",
            "  if not isinstance(terminated, (bool, np.bool8)):\n"
          ]
        }
      ]
    },
    {
      "cell_type": "markdown",
      "source": [
        "#Training"
      ],
      "metadata": {
        "id": "4vj0pDQwCPvZ"
      }
    },
    {
      "cell_type": "code",
      "source": [
        "obs = env.reset()\n",
        "\n",
        "for step in itertools.count():\n",
        "\n",
        "  #Epsilon greedy policy to facilitate exploration\n",
        "  epsilon = np.interp(step, [0, EPS_DECAY], [EPS_START, EPS_END])\n",
        "\n",
        "  sample = random.random()\n",
        "\n",
        "  if sample <= epsilon:\n",
        "    action = env.action_space.sample()\n",
        "  else:\n",
        "    action = online_network.act(obs)\n",
        "\n",
        "  #take a step in the environment based on the action and get teh new observations, reward and whether the episode is over\n",
        "  #store this information in the replay buffer\n",
        "  #set observation to the new observation and add set reward to episode reward\n",
        "  new_obs, reward, done, info = env.step(action)\n",
        "  transition = (obs, action, reward, done, new_obs)\n",
        "  replay_buffer.append(transition)\n",
        "  obs = new_obs\n",
        "\n",
        "  episode_reward += reward\n",
        "\n",
        "  #reset the environment if the episode is over\n",
        "  if done:\n",
        "    obs = env.reset()\n",
        "\n",
        "    reward_buffer.append(episode_reward)\n",
        "    episode_reward = 0.0\n",
        "\n",
        "\n",
        "  #Render\n",
        "  ########\n",
        "  # if len(reward_buffer) >= 100:\n",
        "  #   if np.mean(reward_buffer) >= 195:\n",
        "  #     while True:\n",
        "  #       action = online_network.act(obs)\n",
        "  #       obs, _, done, _ = env.step(action)\n",
        "  #       env.render()\n",
        "  #       if done:\n",
        "  #         env.reset()\n",
        "\n",
        "  #Start gradient steps\n",
        "  #####################\n",
        "  #sample BATCH_SIZE number of samples from the replay buffer\n",
        "  transitions = random.sample(replay_buffer, BATCH_SIZE)\n",
        "\n",
        "  #separate transition tuple and use it to create lists for the batch and then convert to np (faster for converting to pytorch tensor)\n",
        "  obses = np.asarray([t[0] for t in transitions])\n",
        "  actions = np.asarray([t[1] for t in transitions])\n",
        "  rewards = np.asarray([t[2] for t in transitions])\n",
        "  dones = np.asarray([t[3] for t in transitions])\n",
        "  new_obses = np.asarray([t[4] for t in transitions])\n",
        "\n",
        "  obses_t = torch.as_tensor(obses, dtype=torch.float32)\n",
        "  actions_t = torch.as_tensor(actions, dtype=torch.int64).unsqueeze(-1) #unsqeeze -1 adds dimension at the end\n",
        "  rewards_t = torch.as_tensor(rewards, dtype=torch.float32).unsqueeze(-1)\n",
        "  dones_t = torch.as_tensor(dones, dtype=torch.float32).unsqueeze(-1)\n",
        "  new_obses_t = torch.as_tensor(new_obses, dtype=torch.float32)\n",
        "\n",
        "\n",
        "  #Compute Targets\n",
        "  ################\n",
        "  target_q_values = target_network(new_obses_t)\n",
        "\n",
        "  #we want the highest q-value per observation\n",
        "  max_target_q_values = target_q_values.max(dim=1, keepdim=True)[0]\n",
        "\n",
        "  #if the episode is over (dones_t = 1) then we zero out the rest of the function only leaving the reward\n",
        "  targets = rewards_t + GAMMA * (1 - dones_t) * max_target_q_values\n",
        "\n",
        "  #Compute Loss\n",
        "  #############\n",
        "  q_values = online_network(obses_t)\n",
        "\n",
        "  #getting q_value for the action taken\n",
        "  action_q_values = torch.gather(input=q_values, dim=1, index=actions_t)\n",
        "\n",
        "  #huber loss function (smooth_l1_loss in pytorch)\n",
        "  loss = nn.functional.smooth_l1_loss(action_q_values, targets)\n",
        "\n",
        "  #Gradient Descent\n",
        "  ##################\n",
        "\n",
        "  optimiser.zero_grad()\n",
        "  loss.backward()\n",
        "  optimiser.step()\n",
        "\n",
        "  #update target network parameters\n",
        "  if step % TARGET_UPDATE_FREQUENCY == 0:\n",
        "    target_network.load_state_dict(online_network.state_dict())\n",
        "\n",
        "  #Logging\n",
        "  if step % 1000 == 0:\n",
        "    print()\n",
        "    print('Step', step)\n",
        "    print('Avg reward', np.mean(reward_buffer))\n",
        "\n",
        "#for shorter training\n",
        "  if step > 15000:\n",
        "    break\n",
        "\n",
        "\n"
      ],
      "metadata": {
        "colab": {
          "base_uri": "https://localhost:8080/"
        },
        "id": "J1Hi2OERBR2Z",
        "outputId": "b92bbc66-89e1-4373-fc05-b8d8dc606db8"
      },
      "execution_count": 7,
      "outputs": [
        {
          "output_type": "stream",
          "name": "stdout",
          "text": [
            "\n",
            "Step 0\n",
            "Avg reward 0.0\n",
            "\n",
            "Step 1000\n",
            "Avg reward 19.431372549019606\n",
            "\n",
            "Step 2000\n",
            "Avg reward 20.13131313131313\n",
            "\n",
            "Step 3000\n",
            "Avg reward 21.57\n",
            "\n",
            "Step 4000\n",
            "Avg reward 23.77\n",
            "\n",
            "Step 5000\n",
            "Avg reward 28.8\n",
            "\n",
            "Step 6000\n",
            "Avg reward 33.25\n",
            "\n",
            "Step 7000\n",
            "Avg reward 41.58\n",
            "\n",
            "Step 8000\n",
            "Avg reward 48.77\n",
            "\n",
            "Step 9000\n",
            "Avg reward 59.77\n",
            "\n",
            "Step 10000\n",
            "Avg reward 67.92\n",
            "\n",
            "Step 11000\n",
            "Avg reward 76.15\n",
            "\n",
            "Step 12000\n",
            "Avg reward 85.11\n",
            "\n",
            "Step 13000\n",
            "Avg reward 92.24\n",
            "\n",
            "Step 14000\n",
            "Avg reward 102.29\n",
            "\n",
            "Step 15000\n",
            "Avg reward 110.38\n"
          ]
        }
      ]
    },
    {
      "cell_type": "code",
      "source": [
        "!apt-get install x11-utils\n",
        "!pip install pyglet\n",
        "!apt-get install -y xvfb python3-opengl\n",
        "!pip install gym pyvirtualdisplay\n"
      ],
      "metadata": {
        "colab": {
          "base_uri": "https://localhost:8080/"
        },
        "id": "GM8Jgurb8aeu",
        "outputId": "537a3086-877e-495e-f91d-42cd05a8706f"
      },
      "execution_count": 8,
      "outputs": [
        {
          "output_type": "stream",
          "name": "stdout",
          "text": [
            "Reading package lists... Done\n",
            "Building dependency tree... Done\n",
            "Reading state information... Done\n",
            "The following additional packages will be installed:\n",
            "  libfontenc1 libxkbfile1 libxtst6 libxxf86dga1\n",
            "Suggested packages:\n",
            "  mesa-utils\n",
            "The following NEW packages will be installed:\n",
            "  libfontenc1 libxkbfile1 libxtst6 libxxf86dga1 x11-utils\n",
            "0 upgraded, 5 newly installed, 0 to remove and 45 not upgraded.\n",
            "Need to get 318 kB of archives.\n",
            "After this operation, 1,053 kB of additional disk space will be used.\n",
            "Get:1 http://archive.ubuntu.com/ubuntu jammy/main amd64 libfontenc1 amd64 1:1.1.4-1build3 [14.7 kB]\n",
            "Get:2 http://archive.ubuntu.com/ubuntu jammy/main amd64 libxkbfile1 amd64 1:1.1.0-1build3 [71.8 kB]\n",
            "Get:3 http://archive.ubuntu.com/ubuntu jammy/main amd64 libxtst6 amd64 2:1.2.3-1build4 [13.4 kB]\n",
            "Get:4 http://archive.ubuntu.com/ubuntu jammy/main amd64 libxxf86dga1 amd64 2:1.1.5-0ubuntu3 [12.6 kB]\n",
            "Get:5 http://archive.ubuntu.com/ubuntu jammy/main amd64 x11-utils amd64 7.7+5build2 [206 kB]\n",
            "Fetched 318 kB in 1s (414 kB/s)\n",
            "Selecting previously unselected package libfontenc1:amd64.\n",
            "(Reading database ... 121752 files and directories currently installed.)\n",
            "Preparing to unpack .../libfontenc1_1%3a1.1.4-1build3_amd64.deb ...\n",
            "Unpacking libfontenc1:amd64 (1:1.1.4-1build3) ...\n",
            "Selecting previously unselected package libxkbfile1:amd64.\n",
            "Preparing to unpack .../libxkbfile1_1%3a1.1.0-1build3_amd64.deb ...\n",
            "Unpacking libxkbfile1:amd64 (1:1.1.0-1build3) ...\n",
            "Selecting previously unselected package libxtst6:amd64.\n",
            "Preparing to unpack .../libxtst6_2%3a1.2.3-1build4_amd64.deb ...\n",
            "Unpacking libxtst6:amd64 (2:1.2.3-1build4) ...\n",
            "Selecting previously unselected package libxxf86dga1:amd64.\n",
            "Preparing to unpack .../libxxf86dga1_2%3a1.1.5-0ubuntu3_amd64.deb ...\n",
            "Unpacking libxxf86dga1:amd64 (2:1.1.5-0ubuntu3) ...\n",
            "Selecting previously unselected package x11-utils.\n",
            "Preparing to unpack .../x11-utils_7.7+5build2_amd64.deb ...\n",
            "Unpacking x11-utils (7.7+5build2) ...\n",
            "Setting up libxtst6:amd64 (2:1.2.3-1build4) ...\n",
            "Setting up libxxf86dga1:amd64 (2:1.1.5-0ubuntu3) ...\n",
            "Setting up libfontenc1:amd64 (1:1.1.4-1build3) ...\n",
            "Setting up libxkbfile1:amd64 (1:1.1.0-1build3) ...\n",
            "Setting up x11-utils (7.7+5build2) ...\n",
            "Processing triggers for man-db (2.10.2-1) ...\n",
            "Processing triggers for libc-bin (2.35-0ubuntu3.4) ...\n",
            "/sbin/ldconfig.real: /usr/local/lib/libtbbbind_2_5.so.3 is not a symbolic link\n",
            "\n",
            "/sbin/ldconfig.real: /usr/local/lib/libtbbmalloc_proxy.so.2 is not a symbolic link\n",
            "\n",
            "/sbin/ldconfig.real: /usr/local/lib/libtbb.so.12 is not a symbolic link\n",
            "\n",
            "/sbin/ldconfig.real: /usr/local/lib/libtbbbind_2_0.so.3 is not a symbolic link\n",
            "\n",
            "/sbin/ldconfig.real: /usr/local/lib/libtbbbind.so.3 is not a symbolic link\n",
            "\n",
            "/sbin/ldconfig.real: /usr/local/lib/libtbbmalloc.so.2 is not a symbolic link\n",
            "\n",
            "Collecting pyglet\n",
            "  Downloading pyglet-2.0.15-py3-none-any.whl (884 kB)\n",
            "\u001b[2K     \u001b[90m━━━━━━━━━━━━━━━━━━━━━━━━━━━━━━━━━━━━━━━━\u001b[0m \u001b[32m884.3/884.3 kB\u001b[0m \u001b[31m7.9 MB/s\u001b[0m eta \u001b[36m0:00:00\u001b[0m\n",
            "\u001b[?25hInstalling collected packages: pyglet\n",
            "Successfully installed pyglet-2.0.15\n",
            "Reading package lists... Done\n",
            "Building dependency tree... Done\n",
            "Reading state information... Done\n",
            "The following additional packages will be installed:\n",
            "  freeglut3 libglu1-mesa libxfont2 x11-xkb-utils xfonts-base xfonts-encodings xfonts-utils\n",
            "  xserver-common\n",
            "Suggested packages:\n",
            "  libgle3 python3-numpy\n",
            "The following NEW packages will be installed:\n",
            "  freeglut3 libglu1-mesa libxfont2 python3-opengl x11-xkb-utils xfonts-base xfonts-encodings\n",
            "  xfonts-utils xserver-common xvfb\n",
            "0 upgraded, 10 newly installed, 0 to remove and 45 not upgraded.\n",
            "Need to get 8,551 kB of archives.\n",
            "After this operation, 19.8 MB of additional disk space will be used.\n",
            "Get:1 http://archive.ubuntu.com/ubuntu jammy/universe amd64 freeglut3 amd64 2.8.1-6 [74.0 kB]\n",
            "Get:2 http://archive.ubuntu.com/ubuntu jammy/main amd64 libxfont2 amd64 1:2.0.5-1build1 [94.5 kB]\n",
            "Get:3 http://archive.ubuntu.com/ubuntu jammy/main amd64 libglu1-mesa amd64 9.0.2-1 [145 kB]\n",
            "Get:4 http://archive.ubuntu.com/ubuntu jammy/universe amd64 python3-opengl all 3.1.5+dfsg-1 [605 kB]\n",
            "Get:5 http://archive.ubuntu.com/ubuntu jammy/main amd64 x11-xkb-utils amd64 7.7+5build4 [172 kB]\n",
            "Get:6 http://archive.ubuntu.com/ubuntu jammy/main amd64 xfonts-encodings all 1:1.0.5-0ubuntu2 [578 kB]\n",
            "Get:7 http://archive.ubuntu.com/ubuntu jammy/main amd64 xfonts-utils amd64 1:7.7+6build2 [94.6 kB]\n",
            "Get:8 http://archive.ubuntu.com/ubuntu jammy/main amd64 xfonts-base all 1:1.0.5 [5,896 kB]\n",
            "Get:9 http://archive.ubuntu.com/ubuntu jammy-updates/main amd64 xserver-common all 2:21.1.4-2ubuntu1.7~22.04.10 [28.5 kB]\n",
            "Get:10 http://archive.ubuntu.com/ubuntu jammy-updates/universe amd64 xvfb amd64 2:21.1.4-2ubuntu1.7~22.04.10 [863 kB]\n",
            "Fetched 8,551 kB in 1s (7,004 kB/s)\n",
            "Selecting previously unselected package freeglut3:amd64.\n",
            "(Reading database ... 121821 files and directories currently installed.)\n",
            "Preparing to unpack .../0-freeglut3_2.8.1-6_amd64.deb ...\n",
            "Unpacking freeglut3:amd64 (2.8.1-6) ...\n",
            "Selecting previously unselected package libxfont2:amd64.\n",
            "Preparing to unpack .../1-libxfont2_1%3a2.0.5-1build1_amd64.deb ...\n",
            "Unpacking libxfont2:amd64 (1:2.0.5-1build1) ...\n",
            "Selecting previously unselected package libglu1-mesa:amd64.\n",
            "Preparing to unpack .../2-libglu1-mesa_9.0.2-1_amd64.deb ...\n",
            "Unpacking libglu1-mesa:amd64 (9.0.2-1) ...\n",
            "Selecting previously unselected package python3-opengl.\n",
            "Preparing to unpack .../3-python3-opengl_3.1.5+dfsg-1_all.deb ...\n",
            "Unpacking python3-opengl (3.1.5+dfsg-1) ...\n",
            "Selecting previously unselected package x11-xkb-utils.\n",
            "Preparing to unpack .../4-x11-xkb-utils_7.7+5build4_amd64.deb ...\n",
            "Unpacking x11-xkb-utils (7.7+5build4) ...\n",
            "Selecting previously unselected package xfonts-encodings.\n",
            "Preparing to unpack .../5-xfonts-encodings_1%3a1.0.5-0ubuntu2_all.deb ...\n",
            "Unpacking xfonts-encodings (1:1.0.5-0ubuntu2) ...\n",
            "Selecting previously unselected package xfonts-utils.\n",
            "Preparing to unpack .../6-xfonts-utils_1%3a7.7+6build2_amd64.deb ...\n",
            "Unpacking xfonts-utils (1:7.7+6build2) ...\n",
            "Selecting previously unselected package xfonts-base.\n",
            "Preparing to unpack .../7-xfonts-base_1%3a1.0.5_all.deb ...\n",
            "Unpacking xfonts-base (1:1.0.5) ...\n",
            "Selecting previously unselected package xserver-common.\n",
            "Preparing to unpack .../8-xserver-common_2%3a21.1.4-2ubuntu1.7~22.04.10_all.deb ...\n",
            "Unpacking xserver-common (2:21.1.4-2ubuntu1.7~22.04.10) ...\n",
            "Selecting previously unselected package xvfb.\n",
            "Preparing to unpack .../9-xvfb_2%3a21.1.4-2ubuntu1.7~22.04.10_amd64.deb ...\n",
            "Unpacking xvfb (2:21.1.4-2ubuntu1.7~22.04.10) ...\n",
            "Setting up freeglut3:amd64 (2.8.1-6) ...\n",
            "Setting up x11-xkb-utils (7.7+5build4) ...\n",
            "Setting up xfonts-encodings (1:1.0.5-0ubuntu2) ...\n",
            "Setting up libglu1-mesa:amd64 (9.0.2-1) ...\n",
            "Setting up xserver-common (2:21.1.4-2ubuntu1.7~22.04.10) ...\n",
            "Setting up libxfont2:amd64 (1:2.0.5-1build1) ...\n",
            "Setting up xvfb (2:21.1.4-2ubuntu1.7~22.04.10) ...\n",
            "Setting up python3-opengl (3.1.5+dfsg-1) ...\n",
            "Setting up xfonts-utils (1:7.7+6build2) ...\n",
            "Setting up xfonts-base (1:1.0.5) ...\n",
            "Processing triggers for libc-bin (2.35-0ubuntu3.4) ...\n",
            "/sbin/ldconfig.real: /usr/local/lib/libtbbbind_2_5.so.3 is not a symbolic link\n",
            "\n",
            "/sbin/ldconfig.real: /usr/local/lib/libtbbmalloc_proxy.so.2 is not a symbolic link\n",
            "\n",
            "/sbin/ldconfig.real: /usr/local/lib/libtbb.so.12 is not a symbolic link\n",
            "\n",
            "/sbin/ldconfig.real: /usr/local/lib/libtbbbind_2_0.so.3 is not a symbolic link\n",
            "\n",
            "/sbin/ldconfig.real: /usr/local/lib/libtbbbind.so.3 is not a symbolic link\n",
            "\n",
            "/sbin/ldconfig.real: /usr/local/lib/libtbbmalloc.so.2 is not a symbolic link\n",
            "\n",
            "Processing triggers for man-db (2.10.2-1) ...\n",
            "Processing triggers for fontconfig (2.13.1-4.2ubuntu5) ...\n",
            "Requirement already satisfied: gym in /usr/local/lib/python3.10/dist-packages (0.25.2)\n",
            "Collecting pyvirtualdisplay\n",
            "  Downloading PyVirtualDisplay-3.0-py3-none-any.whl (15 kB)\n",
            "Requirement already satisfied: numpy>=1.18.0 in /usr/local/lib/python3.10/dist-packages (from gym) (1.25.2)\n",
            "Requirement already satisfied: cloudpickle>=1.2.0 in /usr/local/lib/python3.10/dist-packages (from gym) (2.2.1)\n",
            "Requirement already satisfied: gym-notices>=0.0.4 in /usr/local/lib/python3.10/dist-packages (from gym) (0.0.8)\n",
            "Installing collected packages: pyvirtualdisplay\n",
            "Successfully installed pyvirtualdisplay-3.0\n"
          ]
        }
      ]
    },
    {
      "cell_type": "code",
      "source": [
        "import matplotlib.pyplot as plt\n",
        "from IPython import display as ipythondisplay\n",
        "from pyvirtualdisplay import Display\n",
        "display = Display(visible=0, size=(400, 300))\n",
        "display.start()\n",
        "\n",
        "env = gym.make(\"CartPole-v0\")\n",
        "env.reset()\n",
        "prev_screen = env.render(mode='rgb_array')\n",
        "plt.imshow(prev_screen)\n",
        "\n",
        "for i in range(5):\n",
        "  action = env.action_space.sample()\n",
        "  obs, reward, done, info = env.step(action)\n",
        "  screen = env.render(mode='rgb_array')\n",
        "\n",
        "  plt.imshow(screen)\n",
        "  ipythondisplay.clear_output(wait=True)\n",
        "  ipythondisplay.display(plt.gcf())\n",
        "\n",
        "  if done:\n",
        "    break\n",
        "\n",
        "ipythondisplay.clear_output(wait=True)\n",
        "env.close()"
      ],
      "metadata": {
        "colab": {
          "base_uri": "https://localhost:8080/",
          "height": 396
        },
        "id": "hYEvcBQc8HSO",
        "outputId": "1a6ac86e-4e83-4e4b-f000-9ff6bfa9ca7a"
      },
      "execution_count": null,
      "outputs": [
        {
          "output_type": "display_data",
          "data": {
            "text/plain": [
              "<Figure size 640x480 with 1 Axes>"
            ],
            "image/png": "[encoded data removed]"
          },
          "metadata": {}
        }
      ]
    }
  ]
}